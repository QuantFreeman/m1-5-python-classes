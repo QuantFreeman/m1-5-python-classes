{
 "cells": [
  {
   "cell_type": "markdown",
   "metadata": {},
   "source": [
    "Classes 1.5 Workshop Submission:\n",
    "Sasha Morrison, (QuantFreeman)"
   ]
  },
  {
   "cell_type": "markdown",
   "metadata": {
    "colab_type": "text",
    "id": "NRgJX0AHXweG"
   },
   "source": [
    "# Exercises\n",
    "\n",
    "## 1. Warmup: Triangle class\n",
    "\n",
    "Create a class called `Triangle`. \n",
    "\n",
    "* The `__init__()` method should take self, angle1, angle2, and angle3 as arguments. Make sure to set these appropriately in the body of the __init__()method.\n",
    "\n",
    "* Create a **class variable** variable named number_of_sides and set it equal to 3.\n",
    "\n",
    "* Create a method named `check_angles` calculating True if the sum of a triangle's three angles is is equal 180, and False otherwise.\n",
    "\n",
    "* Create a variable named `my_triangle` and set it equal to a new instance of your `Triangle` class. Pass it three angles that sum to 180 (e.g. 90, 30, 60).\n",
    "Print out `my_triangle.number_of_sides` and print out `my_triangle.check_angles()`.\n",
    "\n",
    "```python\n",
    "t1 = Triangle(60, 60, 60)\n",
    "t1.check_angles() --> True\n",
    "\n",
    "t2 = Triangle(70, 60, 60)\n",
    "t2.check_angles() --> False\n",
    "```"
   ]
  },
  {
   "cell_type": "code",
   "execution_count": 1,
   "metadata": {},
   "outputs": [
    {
     "name": "stdout",
     "output_type": "stream",
     "text": [
      "<__main__.Triangle object at 0x00000288BCD90100>\n",
      "3\n",
      "True\n"
     ]
    }
   ],
   "source": [
    "class Triangle():\n",
    "    number_of_sides = 3\n",
    "    \n",
    "    def __init__(self, angle1=60, angle2=60, angle3=60):\n",
    "        self.angle1 = angle1 \n",
    "        self.angle2 = angle2 \n",
    "        self.angle3 = angle3 \n",
    "        \n",
    "    def check_angles(self):\n",
    "        return self.angle1 + self.angle2 + self.angle3 == 180\n",
    "    \n",
    "my_triangle = Triangle(90, 30, 60)\n",
    "print(my_triangle)\n",
    "print(my_triangle.number_of_sides)\n",
    "print(my_triangle.check_angles())"
   ]
  },
  {
   "cell_type": "markdown",
   "metadata": {
    "colab_type": "text",
    "id": "VYTlzrmJguZS"
   },
   "source": [
    "## 2.Making Natural Numbers from sets\n",
    "One way to make the natural numbers from the cardinality operation ($|A|$ or `len(A)` in python). \n",
    "\n",
    "Define $A = \\{all\\ possible\\ sets\\}$ That is, $A$ is the set of all sets. \n",
    "\n",
    "Then, the set $\\mathbb{N} = \\{ x : |x| \\forall x \\in A\\}$. \n",
    "\n",
    "Take some time to parse out the math above. $\\mathbb{N}$ is the set of natural numbers. The upside down \"A\" symbol means \"for all\" -- this is another structure that translates to a python for loop:\n",
    "\n",
    "\n",
    "```natural_numbers = {len(x) for x in A}```\n",
    "\n",
    "**Exercise:** Make a `SetNumber` class subclassing python's `set` to generate the natural numbers. It should have:\n",
    "\n",
    "* Addition (`__add__`) and substraction (`__sub__`) defined on other python `sets` objects.\n",
    "\n",
    "* A method called `value(self)` which gets the current numeric value of the `SetNumber` (eg. the number of object in it's set)\n",
    "\n",
    "Example:\n",
    "```python\n",
    "sn = SetNumber({1,2,3})\n",
    "sn.value() --> 3\n",
    "\n",
    "sn + {2,3,4} = a SetNumber with value 4\n",
    "sn + {1,2,3} = a SetNumber with value 3\n",
    "sn + {4,5,6} = a SetNumber with value 6\n",
    "\n",
    "sn - {4,5,6} = a SetNumber with value 3\n",
    "sn - {1,2,3} = a SetNumber with value 0\n",
    "```"
   ]
  },
  {
   "cell_type": "code",
   "execution_count": 2,
   "metadata": {},
   "outputs": [
    {
     "data": {
      "text/plain": [
       "(4, 3, 6, 3, 0)"
      ]
     },
     "execution_count": 2,
     "metadata": {},
     "output_type": "execute_result"
    }
   ],
   "source": [
    "class SetNumber(set):\n",
    "    \n",
    "    def __init__(self, sn):\n",
    "            self.st = set(sn)\n",
    "        \n",
    "    def value(self):\n",
    "        return len(self.st)\n",
    "        \n",
    "    def __add__(self, sn): \n",
    "        return SetNumber(self.st.union(sn))\n",
    "    \n",
    "    def __sub__(self, sn):\n",
    "        return SetNumber(self.st.difference(sn))\n",
    "    \n",
    "    def __repr__(self):\n",
    "        return str(self.value())\n",
    "    \n",
    "sn = SetNumber({1,2,3})\n",
    "sn + {2,3,4}, sn + {1,2,3}, sn + {4,5,6}, sn - {4,5,6}, sn - {1,2,3}"
   ]
  },
  {
   "cell_type": "markdown",
   "metadata": {},
   "source": [
    "# 2d Point Class\n",
    "\n",
    "Write the definition of a Point class. Objects from this class should have a\n",
    "\n",
    "- a method `show()` to display the coordinates of the point\n",
    "- a method `move(x,y)` to shift these coordinates\n",
    "- a method `dist(point)` that computes the distance between 2 points.\n",
    "\n",
    "### Note\n",
    "\n",
    "the **euclidean distance** between 2 points A(x0, y0) and B(x1, y1) can be computed by:\n",
    "  \n",
    "  $$ d(AB)=\\sqrt{(x_1−x_0)^2+(y_1−y_0)^2} $$\n",
    "\n",
    "The following python code provides an example of the expected behaviour of objects belonging to this class:\n",
    "\n",
    "```\n",
    ">>> p1 = Point(2, 3)\n",
    ">>> p2 = Point(3, 3)\n",
    ">>> p1.show()\n",
    "(2, 3)\n",
    ">>> p2.show()\n",
    "(3, 3)\n",
    ">>> p1.move(10, -10)\n",
    ">>> p1.show()\n",
    "(12, -7)\n",
    ">>> p2.show()\n",
    "(3, 3)\n",
    ">>> p1.dist(p2)\n",
    "1.0\n",
    "```\n"
   ]
  },
  {
   "cell_type": "code",
   "execution_count": 3,
   "metadata": {},
   "outputs": [
    {
     "data": {
      "text/plain": [
       "((2, 3), (3, 3), (12, -7), 13.45362404707371)"
      ]
     },
     "execution_count": 3,
     "metadata": {},
     "output_type": "execute_result"
    }
   ],
   "source": [
    "class Point():\n",
    "       \n",
    "    def __init__(self, x, y):\n",
    "        self.xcoord = x\n",
    "        self.ycoord = y\n",
    "    \n",
    "    def move(self, x, y):\n",
    "        self.xcoord += x\n",
    "        self.ycoord += y\n",
    "        return self.show()\n",
    "    \n",
    "    def show(self):\n",
    "        return (self.xcoord, self.ycoord)\n",
    "    \n",
    "    def dist(self, point):\n",
    "        import numpy as np\n",
    "        xdist = (self.xcoord - point.xcoord)**2\n",
    "        ydist = (self.ycoord - point.ycoord)**2\n",
    "        out = np.sqrt(xdist+ydist)\n",
    "        return out\n",
    "    \n",
    "    def __repr__(self):\n",
    "        return str(self.show())\n",
    "\n",
    "p1 = Point(2, 3)\n",
    "p2 = Point(3, 3)\n",
    "\n",
    "p1.show(), p2.show(), p1.move(10,-10), p1.dist(p2)\n",
    "# note that in the the example \n",
    "# output from dist is based on initial p1/p2"
   ]
  },
  {
   "cell_type": "markdown",
   "metadata": {},
   "source": [
    "# Rational Number\n",
    "\n",
    "Make a class that represents a [Rational Number](https://en.wikipedia.org/wiki/Rational_number). The rational number takes as input two integers and represents them as a number which is a fraction.\n",
    "\n",
    "You will need:\n",
    "\n",
    "- A creation rountine taking in two integers and initializing the Rational Number\n",
    "\n",
    "- A functionality where printing the rational number prints it as a clean string in the format `\"a / b\"`\n",
    "\n",
    "- An addition/substraction/multiplication/division method defined on other rational numbers\n",
    "\n",
    "    - These only need to be defined on other rational numbers!\n",
    "\n",
    "    - The result needs to be another `RationalNumber` object\n",
    "\n",
    "```\n",
    ">>> a = RationalNumber(1, 2)\n",
    ">>> b = RationalNumber(1, 3)\n",
    ">>> a\n",
    "1 / 2\n",
    ">>> a + b\n",
    "5/6\n",
    ">>> a - b\n",
    "1/6\n",
    ">>> a * b\n",
    "1/6\n",
    ">>> a/b\n",
    "3/2\n",
    "```"
   ]
  },
  {
   "cell_type": "code",
   "execution_count": 4,
   "metadata": {},
   "outputs": [
    {
     "data": {
      "text/plain": [
       "(5/6, 1/6, 1/6, 3/2)"
      ]
     },
     "execution_count": 4,
     "metadata": {},
     "output_type": "execute_result"
    }
   ],
   "source": [
    "import numpy as np\n",
    "\n",
    "class RationalNumber():\n",
    "    \n",
    "    def __init__(self, n, d):\n",
    "        self.num = n\n",
    "        self.den = d\n",
    "    \n",
    "    def __add__(self, other):\n",
    "        outden = self.den * other.den\n",
    "        outnum = (self.num * other.den) + (other.num * self.den)\n",
    "        return RationalNumber(outnum, outden)\n",
    "    \n",
    "    def __sub__(self, other):\n",
    "        outden = self.den * other.den\n",
    "        outnum = ( (self.num * other.den) - (other.num * self.den) )**2\n",
    "        outnum = int(np.sqrt(outnum))\n",
    "        return RationalNumber(outnum, outden)\n",
    "\n",
    "    def __mul__(self, other):\n",
    "        outden = self.den * other.den\n",
    "        outnum = self.num * other.num\n",
    "        return RationalNumber(outnum, outden)\n",
    "    \n",
    "    def __truediv__(self, other):\n",
    "        outden = self.den * other.num\n",
    "        outnum = self.num * other.den\n",
    "        return RationalNumber(outnum, outden)\n",
    "    \n",
    "    def __repr__(self):\n",
    "        return str(self.num) + '/' + str(self.den)\n",
    "    \n",
    "a = RationalNumber(1, 2)\n",
    "b = RationalNumber(1, 3)\n",
    "a + b, a - b, a * b, a / b"
   ]
  },
  {
   "cell_type": "markdown",
   "metadata": {
    "colab": {},
    "colab_type": "code",
    "id": "CiHuObmJdo0h"
   },
   "source": [
    "# 4. Deck of Cards\n",
    "\n",
    "Create a deck of cards class. \n",
    "\n",
    "Internally, the deck of cards should use another class, a card class. \n",
    "\n",
    "Your requirements are:\n",
    "\n",
    "- The Deck class should have a deal method to deal a single card from the deck\n",
    "- After a card is dealt, it is removed from the deck.\n",
    "    - If no cards remain in the deck and we try to deal, it should raise an exception\n",
    "- There should be a shuffle method which makes sure the deck of cards has all 52 cards and then rearranges them randomly.\n",
    "    - If there are fewer than 52 cards, an exception should be raised\n",
    "- The Card class should have a suit (Hearts, Diamonds, Clubs, Spades) and a value (A,2,3,4,5,6,7,8,9,10,J,Q,K)\n",
    "\n",
    "```\n",
    ">>> c = Card(suit='Hearts', value='K')\n",
    ">>> c\n",
    "\"K of Hearts\"\n",
    ">>> d = Deck()\n",
    ">>> d\n",
    "\"Cards remaining in deck: 52\"\n",
    "\n",
    "# Deck is not shuffled -- deals cards consecutively:\n",
    "\n",
    ">>> d.deal()\n",
    "\"K of Spades\"\n",
    ">>> d.deal()\n",
    "\"Q of Spades\"\n",
    ">>> d.deal()\n",
    "\"J of Spades\"\n",
    ">>> d\n",
    "\"Cards remaining in deck: 49\"\n",
    "\n",
    "# We dealt 3 cards, 49 remain\n",
    "# Can't shuffle deck that's not full:\n",
    "\n",
    ">>> d.shuffle()\n",
    "ValueError: Only full decks can be shuffled\n",
    "\n",
    "# You can shuffle full decks \n",
    ">>> d = Deck()\n",
    ">>> d.shuffle()\n",
    "\n",
    "# Now it deals random cards\n",
    "\n",
    ">>> d.deal()\n",
    "\"2 of Hearts\"\n",
    "\n",
    "```"
   ]
  },
  {
   "cell_type": "code",
   "execution_count": 5,
   "metadata": {},
   "outputs": [
    {
     "name": "stdout",
     "output_type": "stream",
     "text": [
      "The deck is shuffled!\n",
      "Two of Hearts\n",
      "Four of Clubs\n",
      "Six of Spades\n",
      "Deck Count: 49/52\n"
     ]
    }
   ],
   "source": [
    "import random\n",
    "\n",
    "class Card():\n",
    "    \"\"\"\n",
    "    Card class contains two dictionaries, suitlist & facelist\n",
    "    Such that: Card(1,1) returns Ace of Spades\n",
    "    Default Card() is Ace of Spades\n",
    "    Represents itself as a string when called\n",
    "    \"\"\"\n",
    "    \n",
    "    def __init__(self, suit=1, face=1):\n",
    "\n",
    "        self.suitlist = {\n",
    "        1:'Spades', \n",
    "        2:'Hearts', \n",
    "        3:'Clubs', \n",
    "        4:'Diamonds'}\n",
    "        \n",
    "        self.facelist = {\n",
    "        1:'Ace of ', \n",
    "        2:'Two',\n",
    "        3:'Three',\n",
    "        4:'Four',\n",
    "        5:'Five',\n",
    "        6:'Six',\n",
    "        7:'Seven',\n",
    "        8:'Eight',\n",
    "        9:'Nine',\n",
    "        10:'Ten',\n",
    "        11:'Jack',\n",
    "        12:'Queen',\n",
    "        13:'King'}\n",
    "        \n",
    "        self.suit = self.suitlist[suit]\n",
    "        self.face = self.facelist[face]\n",
    "\n",
    "    def __repr__(self):\n",
    "        return self.face + ' of ' + self.suit\n",
    "\n",
    "    \n",
    "    \n",
    "class Deck():\n",
    "    SIZE = 52\n",
    "    \n",
    "    def __init__(self):\n",
    "        self.decklist = []\n",
    "        card = Card()\n",
    "        for s in card.suitlist:       \n",
    "            for f in card.facelist:\n",
    "                self.decklist.append([s, f])\n",
    "\n",
    "    def deal(self, n=1):\n",
    "        if len(self.decklist) < n:\n",
    "            raise Exception(f'Too few cards to deal that many! Currently: {len(self.decklist)}/{Deck.SIZE}')\n",
    "        for i in range(n):  \n",
    "            out = self.decklist.pop(0)\n",
    "            outcard = Card(out[0],out[1])\n",
    "            print(outcard)\n",
    "        print(f'Deck Count: {len(self.decklist)}/{Deck.SIZE}' )\n",
    "                \n",
    "    def shuffle(self):\n",
    "        assert len(self.decklist) == Deck.SIZE, f\"Deck must be full to shuffle! Currently: {len(self.decklist)}/{Deck.SIZE}\"\n",
    "        random.shuffle(self.decklist)\n",
    "        print('The deck is shuffled!')\n",
    "    \n",
    "test = Deck()\n",
    "test.shuffle()\n",
    "test.deal(3)\n",
    "# test.decklist"
   ]
  }
 ],
 "metadata": {
  "colab": {
   "collapsed_sections": [],
   "name": "Workshop: Python Types and Classes.ipynb",
   "provenance": []
  },
  "kernelspec": {
   "display_name": "Python 3",
   "language": "python",
   "name": "python3"
  },
  "language_info": {
   "codemirror_mode": {
    "name": "ipython",
    "version": 3
   },
   "file_extension": ".py",
   "mimetype": "text/x-python",
   "name": "python",
   "nbconvert_exporter": "python",
   "pygments_lexer": "ipython3",
   "version": "3.8.3"
  }
 },
 "nbformat": 4,
 "nbformat_minor": 4
}
